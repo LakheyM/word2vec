{
 "cells": [
  {
   "cell_type": "code",
   "execution_count": null,
   "metadata": {
    "collapsed": true
   },
   "outputs": [],
   "source": [
    "#WORD2VEC SKIP-GRAM NEGATIVE SAMPLING REAL  WORLD EXAMPLE"
   ]
  },
  {
   "cell_type": "code",
   "execution_count": 113,
   "metadata": {
    "collapsed": true
   },
   "outputs": [],
   "source": [
    "#Make a sighle list of collections of strigs of partial sentences\n",
    "#dependencies\n",
    "import numpy as np\n",
    "import random\n",
    "import csv\n",
    "import re\n",
    "path = 'C:\\\\Users\\\\Mnsh\\\\Documents\\\\data\\\\pytorch\\\\word2vec\\\\SGNS\\\\World_Order_by_Henry_Kissinger.csv'\n",
    "\n",
    "#read the book\n",
    "def read_book(path):\n",
    "    f = open(path, encoding=\"utf8\")\n",
    "    csv_f = csv.reader(f)\n",
    "\n",
    "    book = []\n",
    "    for row in csv_f:\n",
    "        book.append(row[0])\n",
    "    \n",
    "    return book\n",
    "\n",
    "#processing get desired corpus, finding uniq set of words\n",
    "def preprocess(book):\n",
    "    \n",
    "    #join the string into a long single string\n",
    "    whole_book=' '.join(book)\n",
    "\n",
    "    #lower case and remove all the symbols\n",
    "    #then remove the digits\n",
    "    words_no_dig_punc = (re.sub(r'[^\\w]', ' ', whole_book.lower())).split()\n",
    "    words_no_dig_punc = [x for x in words_no_dig_punc if not any(c.isdigit() for c in x)]\n",
    "\n",
    "    #finding unique words\n",
    "    #Count and find most common words\n",
    "    from collections import Counter\n",
    "    word_counts = Counter(words_no_dig_punc)\n",
    "    word_counts = word_counts.most_common()   #A sorted version\n",
    "\n",
    "    #Top 20 most common are selected --> add and subtract few words to it as deemed appropriate\n",
    "    stop_words = [item[0] for item in (word_counts[:20])]\n",
    "    not_stop = ['world', 'order', 'war', 'not']\n",
    "    stop_words = [e for e in stop_words if e not in (not_stop)]\n",
    "    stop_words.append('chapter')\n",
    "    \n",
    "    #Make a corpus without these stop words\n",
    "    vocab = list(filter(lambda x: x not in stop_words, words_no_dig_punc))\n",
    "    \n",
    "    #From corpus get all uniq words --> to be indexed and tokenized (to one hot vectors)\n",
    "    uniq_words = list(set(vocab))\n",
    "    \n",
    "    words_to_ints ={k: v for v, k in enumerate(uniq_words)}  #Redundant, Not using it\n",
    "    ints_to_words ={v: k for v, k in enumerate(uniq_words)}  #Redundant, Not using it\n",
    "\n",
    "    #To tokenize all the words in corpus the indices of words in uniq_words work as look up table\n",
    "    vocab_int_pair= []\n",
    "    for i in range(len(vocab)):\n",
    "        vocab_int_pair.append([vocab[i], uniq_words.index(vocab[i])])\n",
    "\n",
    "    #Finally just take the tokenized version of corpus to be loaded into network to train    \n",
    "    int_arr_of_vocab = np.array(vocab_int_pair)[:, 1].astype(np.int)\n",
    "    \n",
    "    return (whole_book, vocab, uniq_words, words_to_ints,  vocab_int_pair, ints_to_words, int_arr_of_vocab)\n"
   ]
  },
  {
   "cell_type": "code",
   "execution_count": 115,
   "metadata": {
    "collapsed": false
   },
   "outputs": [],
   "source": [
    "book = read_book(path)\n",
    "whole_book, vocab, uniq_words, words_to_ints,  vocab_int_pair, ints_to_words, int_arr_of_vocab =preprocess(book[:100]) "
   ]
  },
  {
   "cell_type": "code",
   "execution_count": 116,
   "metadata": {
    "collapsed": false
   },
   "outputs": [
    {
     "data": {
      "text/plain": [
       "(303, 437)"
      ]
     },
     "execution_count": 116,
     "metadata": {},
     "output_type": "execute_result"
    }
   ],
   "source": [
    "len(uniq_words), len(vocab)"
   ]
  },
  {
   "cell_type": "code",
   "execution_count": 161,
   "metadata": {
    "collapsed": true
   },
   "outputs": [],
   "source": [
    "###############################################################################################\n",
    "#Generating pairs of  true samples -->co-occuring within a given frame of window size, labeling the pair 1\n",
    "#int_arr_of_vocab --> Tokenized corpus\n",
    "#window --> Selected window\n",
    "#True pairs start at index +w and ends at index -w (length - w), as only these have full complement of pairs\n",
    "#Much easier to code this way than accomodating all elements for all window sizes\n",
    "\n",
    "def gen_true(int_arr_of_vocab, window):\n",
    "    \n",
    "    true_list = []\n",
    "    \n",
    "    #temp list initially collects 11 indices, however middle one is deleted\n",
    "    #On the second go, middle index is combined with all 10 in temp seperately and labeled as 1\n",
    "    for i in range(len(int_arr_of_vocab)-window*2):\n",
    "        tempp = []\n",
    "        tempp=list(int_arr_of_vocab[i:i+ (window *2) + 1 ]) \n",
    "        tempp.remove(int_arr_of_vocab[i+window])\n",
    "\n",
    "        for j in range(window*2):\n",
    "            true_list.append([int_arr_of_vocab[i+window], tempp[j], 1])\n",
    "    return true_list\n",
    "###################################################################################################"
   ]
  },
  {
   "cell_type": "code",
   "execution_count": 118,
   "metadata": {
    "collapsed": true
   },
   "outputs": [],
   "source": [
    "###############################################################################################\n",
    "\n",
    "#int_arr_of_vocab --> Tokenized corpus\n",
    "#window --> Selected window\n",
    "#k --> is number of negative samples for each word --> keep 20 as each word as 10 positive pairs when window is size  10\n",
    "#Simply take k random samples from whole set of uniq_words and pair with each input word\n",
    "#Note that each input has window *2 true pairs and k has to be proportionately large\n",
    "\n",
    "#Alternate version, not used here\n",
    "#speed it up --> draw enough random samples in a range\n",
    "#concatenate --> the each item in true copied 20 x, random samples, 0s\n",
    "\n",
    "\n",
    "import random\n",
    "def gen_false(int_arr_of_vocab, uniq_words, k, window):\n",
    "    false_pairs = []\n",
    "    for i in range(len(int_arr_of_vocab)):\n",
    "        rnd_indices = random.sample(range(len(uniq_words)),  k)\n",
    "        for j in range(k):\n",
    "                false_pairs.append([int_arr_of_vocab[i], rnd_indices[j], 0])\n",
    "    \n",
    "    return false_pairs[k*window:-k*window]\n",
    "\n",
    "#Remove the first few pairs and last few pairs as true pairs start at index +w and ends at index -w (length - w)\n",
    "##############################################################################################"
   ]
  },
  {
   "cell_type": "code",
   "execution_count": 119,
   "metadata": {
    "collapsed": true
   },
   "outputs": [],
   "source": [
    "true_list = gen_true(int_arr_of_vocab, window=5)\n"
   ]
  },
  {
   "cell_type": "code",
   "execution_count": 120,
   "metadata": {
    "collapsed": false
   },
   "outputs": [
    {
     "data": {
      "text/plain": [
       "([['reiler', 83],\n",
       "  ['lion', 196],\n",
       "  ['on', 143],\n",
       "  ['cllaracler', 227],\n",
       "  ['course', 133],\n",
       "  ['history', 194],\n",
       "  ['henry', 159],\n",
       "  ['kissinger', 119],\n",
       "  ['world', 86],\n",
       "  ['order', 31],\n",
       "  ['reflections', 249]],\n",
       " [[194, 83, 1],\n",
       "  [194, 196, 1],\n",
       "  [194, 143, 1],\n",
       "  [194, 227, 1],\n",
       "  [194, 133, 1],\n",
       "  [194, 159, 1],\n",
       "  [194, 119, 1],\n",
       "  [194, 86, 1],\n",
       "  [194, 31, 1],\n",
       "  [194, 249, 1],\n",
       "  [159, 196, 1]],\n",
       " 4270)"
      ]
     },
     "execution_count": 120,
     "metadata": {},
     "output_type": "execute_result"
    }
   ],
   "source": [
    "vocab_int_pair[:11], true_list[:11], len(true_list)"
   ]
  },
  {
   "cell_type": "code",
   "execution_count": 121,
   "metadata": {
    "collapsed": true
   },
   "outputs": [],
   "source": [
    "false_list = gen_false(int_arr_of_vocab, uniq_words, k = 100, window = 5)"
   ]
  },
  {
   "cell_type": "code",
   "execution_count": 122,
   "metadata": {
    "collapsed": false
   },
   "outputs": [
    {
     "data": {
      "text/plain": [
       "([[194, 2, 0],\n",
       "  [194, 282, 0],\n",
       "  [194, 200, 0],\n",
       "  [194, 226, 0],\n",
       "  [194, 47, 0],\n",
       "  [194, 185, 0],\n",
       "  [194, 125, 0],\n",
       "  [194, 132, 0],\n",
       "  [194, 262, 0],\n",
       "  [194, 241, 0],\n",
       "  [159, 230, 0]],\n",
       " 42700)"
      ]
     },
     "execution_count": 122,
     "metadata": {},
     "output_type": "execute_result"
    }
   ],
   "source": [
    "false_list[90:101], len(false_list)"
   ]
  },
  {
   "cell_type": "code",
   "execution_count": 123,
   "metadata": {
    "collapsed": true
   },
   "outputs": [],
   "source": [
    "###########################################################################################################\n",
    "#Concatenate true_list, false_list\n",
    "#False list keeps changing each time joint list is drawn\n",
    "def gen_joint_list(true_list,int_arr_of_vocab, uniq_words, k, window ):\n",
    "    joint_list = np.concatenate((np.array(true_list), np.array(gen_false(int_arr_of_vocab, uniq_words, k, window))), axis = 0)\n",
    "    np.random.shuffle(joint_list)\n",
    "    return joint_list\n",
    "############################################################################################################"
   ]
  },
  {
   "cell_type": "code",
   "execution_count": 22,
   "metadata": {
    "collapsed": false
   },
   "outputs": [
    {
     "data": {
      "text/plain": [
       "(883410, array([[1939, 2097,    1],\n",
       "        [ 912, 1947,    0],\n",
       "        [ 566, 1502,    0],\n",
       "        [2017,  834,    0],\n",
       "        [1483, 2109,    0]]))"
      ]
     },
     "execution_count": 22,
     "metadata": {},
     "output_type": "execute_result"
    }
   ],
   "source": [
    "len(joint_list), joint_list[:5]"
   ]
  },
  {
   "cell_type": "code",
   "execution_count": 124,
   "metadata": {
    "collapsed": true
   },
   "outputs": [],
   "source": [
    "#########################################################################################\n",
    "#As joint list is too long and takes a lot of memory to process at one go --> load small batches\n",
    "# i --> is used to return one batch at a time, it is a counter and a markers for selecting size\n",
    "#len(joint_list)//batch_size +1 --> gives the total numbers of batches\n",
    "\n",
    "def gen_batch(joint_list, batch_size, i):\n",
    "\n",
    "    if i < len(joint_list)//batch_size:\n",
    "        \n",
    "        batch = joint_list[i*batch_size:i*batch_size+batch_size]\n",
    "        \n",
    "    else:\n",
    "        \n",
    "        batch = joint_list[i*batch_size:]\n",
    "        \n",
    "    return batch\n",
    "############################################################################################"
   ]
  },
  {
   "cell_type": "code",
   "execution_count": 164,
   "metadata": {
    "collapsed": false
   },
   "outputs": [
    {
     "data": {
      "text/plain": [
       "array([[129,  29,   0],\n",
       "       [143,  68,   0],\n",
       "       [ 31, 255,   0],\n",
       "       [261, 192,   0],\n",
       "       [204, 218,   0]])"
      ]
     },
     "execution_count": 164,
     "metadata": {},
     "output_type": "execute_result"
    }
   ],
   "source": [
    "#Test batch b1\n",
    "b1 = gen_batch(joint_list, batch_size = 100, i =0)\n",
    "b1[:5]"
   ]
  },
  {
   "cell_type": "code",
   "execution_count": 125,
   "metadata": {
    "collapsed": true
   },
   "outputs": [],
   "source": [
    "###########################################################################################################\n",
    "import torch\n",
    "\n",
    "#generate tensors of one hot vector for each tokenized pair in a batch of joint list\n",
    "#Also note labels are simply 3rd column in each batch\n",
    "\n",
    "def one_hot_auto_batchwise(batch, uniq_words):\n",
    "    \n",
    "    iol_tensor = torch.Tensor(batch).long()\n",
    "    \n",
    "    \n",
    "    middle_word_arr = torch.zeros(iol_tensor.shape[0], len(uniq_words))\n",
    "    sur_word_arr = torch.zeros(iol_tensor.shape[0], len(uniq_words))\n",
    "    for i in range(len(iol_tensor)):\n",
    "        middle_word_arr[i, iol_tensor[i, 0]] = 1\n",
    "        sur_word_arr[i, iol_tensor[i, 1]] = 1\n",
    "    labels = iol_tensor[:, 2].float()\n",
    "    return (middle_word_arr, sur_word_arr, labels)\n",
    "#################################################################################################################"
   ]
  },
  {
   "cell_type": "code",
   "execution_count": 165,
   "metadata": {
    "collapsed": false
   },
   "outputs": [],
   "source": [
    "#with test batch b1 get the respective vectors and labels\n",
    "mh, sh, ll = one_hot_auto_batchwise(b1, uniq_words)"
   ]
  },
  {
   "cell_type": "code",
   "execution_count": 166,
   "metadata": {
    "collapsed": false
   },
   "outputs": [
    {
     "data": {
      "text/plain": [
       "(tensor(129), tensor(29), tensor(0.))"
      ]
     },
     "execution_count": 166,
     "metadata": {},
     "output_type": "execute_result"
    }
   ],
   "source": [
    "#Check that these are consistent\n",
    "np.argmax(mh[0]), np.argmax(sh[0]), ll[0]"
   ]
  },
  {
   "cell_type": "code",
   "execution_count": 168,
   "metadata": {
    "collapsed": false
   },
   "outputs": [
    {
     "data": {
      "text/plain": [
       "array([[129,  29,   0],\n",
       "       [143,  68,   0],\n",
       "       [ 31, 255,   0],\n",
       "       [261, 192,   0],\n",
       "       [204, 218,   0]])"
      ]
     },
     "execution_count": 168,
     "metadata": {},
     "output_type": "execute_result"
    }
   ],
   "source": [
    "#Tally with the joint list\n",
    "joint_list[:5]"
   ]
  },
  {
   "cell_type": "code",
   "execution_count": 126,
   "metadata": {
    "collapsed": true
   },
   "outputs": [],
   "source": [
    "#Defining the network\n",
    "#2 linear fully connected layers are used, bias units are not use\n",
    "#fc_midl_word takes all the input words/tokens\n",
    "#fc_sur_word takes all the targets (true or false counterpart) of the pair\n",
    "#Using sigmoid activation hence BCE loss\n",
    "#Also note parameters of both networks are combined in a list which helps in back prop and stepping\n",
    "\n",
    "import torch.nn as nn\n",
    "import torch.optim as optim\n",
    "\n",
    "device = torch.device('cuda' if torch.cuda.is_available() else 'cpu')\n",
    "embed_size = 30\n",
    "def gen_model(uniq_words, embed_size, LR=0.0001):\n",
    "    \n",
    "\n",
    "    fc_midl_word = nn.Linear(len(uniq_words), embed_size, bias = False)\n",
    "    fc_sur_word = nn.Linear(len(uniq_words), embed_size, bias = False)\n",
    "\n",
    "    fc_midl_word = fc_midl_word.to(device)\n",
    "    fc_sur_word =fc_sur_word.to(device)\n",
    "\n",
    "    \n",
    "    criterion = nn.BCELoss()\n",
    "    \n",
    "    params = list(fc_midl_word.parameters()) + list(fc_sur_word.parameters())\n",
    "    optimizer = optim.Adam(params, lr = LR)\n",
    "    \n",
    "    return(fc_midl_word, fc_sur_word, criterion, optimizer )"
   ]
  },
  {
   "cell_type": "code",
   "execution_count": 127,
   "metadata": {
    "collapsed": false
   },
   "outputs": [],
   "source": [
    "fc_midl_word, fc_sur_word, criterion, optimizer = gen_model(uniq_words, embed_size =30, LR=0.0001)"
   ]
  },
  {
   "cell_type": "code",
   "execution_count": 128,
   "metadata": {
    "collapsed": false
   },
   "outputs": [
    {
     "data": {
      "text/plain": [
       "(Linear(in_features=303, out_features=30, bias=False),\n",
       " Linear(in_features=303, out_features=30, bias=False))"
      ]
     },
     "execution_count": 128,
     "metadata": {},
     "output_type": "execute_result"
    }
   ],
   "source": [
    "fc_midl_word, fc_sur_word"
   ]
  },
  {
   "cell_type": "code",
   "execution_count": 131,
   "metadata": {
    "collapsed": false
   },
   "outputs": [
    {
     "data": {
      "text/plain": [
       "Parameter containing:\n",
       "tensor([[-0.1138,  0.0950, -0.0161,  ..., -0.0832, -0.0046,  0.0394],\n",
       "        [-0.0093, -0.0034,  0.0303,  ..., -0.0456, -0.1076, -0.0311],\n",
       "        [-0.0777,  0.0906,  0.1224,  ...,  0.0390, -0.0212,  0.0251],\n",
       "        ...,\n",
       "        [ 0.0622,  0.1260, -0.0003,  ..., -0.0900, -0.0741,  0.0520],\n",
       "        [ 0.0216,  0.1335, -0.1219,  ..., -0.0514,  0.0699, -0.1048],\n",
       "        [ 0.0550,  0.0750, -0.0896,  ...,  0.1106,  0.0030, -0.1137]],\n",
       "       requires_grad=True)"
      ]
     },
     "execution_count": 131,
     "metadata": {},
     "output_type": "execute_result"
    }
   ],
   "source": [
    "#Collect losses\n",
    "#k --> proporion of negative samples --> with window of 5, k of 100 --> 10 negative samples for each tre pair\n",
    "#window --> selected/defined window for cooccurence\n",
    "#LR - Learing rate\n",
    "#embed_size - Size of embedding for vector representation\n",
    "#embed_size --> Arbitrary, May be scaled down by some log when uniq_set is large or by root when uniq_set is not so large\n",
    "\n",
    "#Get all the variable and network ready before feeding/starting algorithm\n",
    "#xavier init is vital for better and faster convergence\n",
    "\n",
    "losses = []\n",
    "k = 100\n",
    "window = 5\n",
    "LR = 0.001\n",
    "embed_size =30\n",
    "whole_book, vocab, uniq_words, words_to_ints,  vocab_int_pair, ints_to_words, int_arr_of_vocab =preprocess(book[:100]) \n",
    "true_list = gen_true(int_arr_of_vocab, window =5)\n",
    "\n",
    "#false list is generated everytime joint list is called\n",
    "#false_list = gen_false(int_arr_of_vocab, uniq_words, k = 100, window = 5)\n",
    "\n",
    "fc_midl_word, fc_sur_word, criterion, optimizer = gen_model(uniq_words, embed_size, LR)\n",
    "torch.nn.init.xavier_uniform_(fc_midl_word.weight)\n",
    "torch.nn.init.xavier_uniform_(fc_sur_word.weight)"
   ]
  },
  {
   "cell_type": "code",
   "execution_count": null,
   "metadata": {
    "collapsed": false
   },
   "outputs": [
    {
     "name": "stdout",
     "output_type": "stream",
     "text": [
      "0.6926180720329285\n",
      "0.6926180720329285 0.6928567886352539\n",
      "0.29256561398506165\n",
      "0.29256561398506165 0.6926180720329285\n",
      "0.27223339676856995\n",
      "0.27223339676856995 0.29256561398506165\n",
      "0.2556808292865753\n",
      "0.2556808292865753 0.27223339676856995\n",
      "0.2138306200504303\n",
      "0.2138306200504303 0.2556808292865753\n",
      "0.17514534294605255\n",
      "0.17514534294605255 0.2138306200504303\n",
      "0.13904179632663727\n",
      "0.13904179632663727 0.17514534294605255\n",
      "0.125886932015419\n",
      "0.125886932015419 0.13904179632663727\n",
      "0.11686218529939651\n",
      "0.11686218529939651 0.125886932015419\n",
      "0.11403784155845642\n",
      "0.11403784155845642 0.11686218529939651\n"
     ]
    }
   ],
   "source": [
    "#Implement \n",
    "\n",
    "\n",
    "epochs = 500\n",
    "print_every = 50\n",
    "batch_size = 10000\n",
    "\n",
    "#save files containing weights whenever losses are min\n",
    "save_path1 = 'C:\\\\Users\\\\Mnsh\\\\Documents\\\\data\\\\pytorch\\\\word2vec\\\\SGNS\\\\fc_midl_dict.pth'\n",
    "save_path2 = 'C:\\\\Users\\\\Mnsh\\\\Documents\\\\data\\\\pytorch\\\\word2vec\\\\SGNS\\\\fc_sur_dict.pth'\n",
    "save_path3 = 'C:\\\\Users\\\\Mnsh\\\\Documents\\\\data\\\\pytorch\\\\word2vec\\\\SGNS\\\\fc_midl_wt.pth'\n",
    "\n",
    "\n",
    "for epoch in range(epochs):\n",
    "    \n",
    "    #Get fresh joint list with different random false samples\n",
    "    joint_list = gen_joint_list(true_list,int_arr_of_vocab, uniq_words, k, window )\n",
    "    num_batches = (len(joint_list)//batch_size) +1\n",
    "    \n",
    "    #Get i.th batch from joint list and proceed forward, backward\n",
    "    for i in range(num_batches):  \n",
    "        \n",
    "        batch = gen_batch(joint_list, batch_size, i)\n",
    "        mid_word_oh, sur_word_oh, labels = one_hot_auto_batchwise(batch, uniq_words)\n",
    "    \n",
    "    \n",
    "        z_midl = fc_midl_word(torch.Tensor(mid_word_oh))\n",
    "        \n",
    "        z_sur = fc_sur_word(torch.Tensor(sur_word_oh))\n",
    "        \n",
    "        #vector product of word as input and word as target, not the product is parallelized and not looped\n",
    "        #after training product/score for true pairs will be high and low/neg for false pairs\n",
    "        dot_inp_tar = torch.sum(torch.mul(z_midl, z_sur), dim =1).reshape(-1, 1)\n",
    "        \n",
    "        #sigmoid activation squashes the scores to 1 or 0\n",
    "        sig_logits = nn.Sigmoid()(dot_inp_tar)\n",
    "        \n",
    "        optimizer.zero_grad()\n",
    "        loss = criterion(sig_logits, torch.Tensor(labels).view(sig_logits.shape[0], 1))\n",
    "        loss.backward()\n",
    "        optimizer.step()\n",
    "        \n",
    "        \n",
    "    if epoch % print_every == 0:\n",
    "\n",
    "        losses.append(loss.item())\n",
    "        print(loss.item())\n",
    "        \n",
    "        if loss < np.min(losses[:-1]):\n",
    "            print(loss.item(),  np.min(losses[:-1] ))\n",
    "            torch.save(fc_midl_word.state_dict(), save_path1)\n",
    "            torch.save(fc_sur_word.state_dict(), save_path2)\n",
    "            torch.save(fc_midl_word.weight, save_path3)\n",
    "        #mid_hot, sur_hot, labels = one_hot_auto()"
   ]
  },
  {
   "cell_type": "code",
   "execution_count": 140,
   "metadata": {
    "collapsed": false
   },
   "outputs": [
    {
     "data": {
      "text/plain": [
       "4"
      ]
     },
     "execution_count": 140,
     "metadata": {},
     "output_type": "execute_result"
    }
   ],
   "source": [
    "#non vectorized version for computing sig_logits\n",
    "'''\n",
    "        dot_u_v = torch.zeros(mid_word_oh.shape[0], 1)\n",
    "        for j in range(len(z_midl)):\n",
    "           dot_u_v[j, :] = z_midl[j, :] @ z_sur[j, :]\n",
    "        desired_logits = dot_u_v\n",
    "        sig_logits = nn.Sigmoid()(desired_logits)\n",
    "'''"
   ]
  },
  {
   "cell_type": "code",
   "execution_count": 183,
   "metadata": {
    "collapsed": true
   },
   "outputs": [],
   "source": [
    "#################################################################################################################\n",
    "#Given the set of uniq_words used to train, the function finds the cosine distances from selected word to all words\n",
    "#top_n words are returned, sim_score is simply the cosine distance\n",
    "import torch\n",
    "def find_dist(uniq_words, word, top_n):\n",
    "    distances = []\n",
    "    idx =  uniq_words.index(word)\n",
    "    for i in range(fc_midl_word.weight.t().shape[0]):\n",
    "        dist = nn.CosineSimilarity(dim = 0)(fc_midl_word.weight.t()[idx, :], fc_midl_word.weight.t()[i, :])\n",
    "        distances.append(dist)\n",
    "    sim_score, indices = torch.topk(torch.Tensor(distances), top_n)\n",
    "    indices = indices.tolist()\n",
    "    similar_words = [uniq_words[i] for i  in indices]\n",
    "    #print(similar_words)\n",
    "    print(sim_score)\n",
    "    return similar_words\n",
    "\n",
    "\n",
    "\n",
    "#Use when saved weights are transfered to new network for evaluation\n",
    "\n",
    "\n",
    "\n",
    "\n",
    "def find_dist_new(model, uniq_words, word, top_n):\n",
    "    distances = []\n",
    "    idx =  uniq_words.index(word)\n",
    "    for i in range(model.weight.t().shape[0]):\n",
    "        dist = nn.CosineSimilarity(dim = 0)(model.weight.t()[idx, :], model.weight.t()[i, :])\n",
    "        distances.append(dist)\n",
    "    confidence, indices = torch.topk(torch.Tensor(distances), top_n)\n",
    "    indices = indices.tolist()\n",
    "    similar_words = [uniq_words[i] for i  in indices]\n",
    "    #print(similar_words)\n",
    "    print(confidence)\n",
    "    return similar_words\n",
    "###################################################################################################################"
   ]
  },
  {
   "cell_type": "code",
   "execution_count": 149,
   "metadata": {
    "collapsed": false
   },
   "outputs": [
    {
     "data": {
      "text/plain": [
       "tensor([-0.5577,  1.3201,  0.3211, -0.6869, -1.3027,  0.1036, -0.1439,  0.0094,\n",
       "         0.2495,  0.2930,  0.7856, -0.3296,  0.0779,  0.0496,  0.1061,  1.3059,\n",
       "        -0.7851, -0.0888, -1.1694, -0.7286,  0.9889,  0.1502,  0.4138,  0.6048,\n",
       "        -1.1535, -0.5175, -0.1529,  0.1102,  0.1541,  1.4733],\n",
       "       grad_fn=<SelectBackward>)"
      ]
     },
     "execution_count": 149,
     "metadata": {},
     "output_type": "execute_result"
    }
   ],
   "source": [
    "#vector/embedding for the 1st word in uniq_words\n",
    "fc_midl_word.weight.t()[0]"
   ]
  },
  {
   "cell_type": "code",
   "execution_count": 146,
   "metadata": {
    "collapsed": true
   },
   "outputs": [],
   "source": [
    "#Loading the saved weights\n",
    "pretrained_weights10 = torch.load('C:\\\\Users\\\\Mnsh\\\\Documents\\\\data\\\\pytorch\\\\word2vec\\\\SGNS\\\\fc_midl_wt.pth')"
   ]
  },
  {
   "cell_type": "code",
   "execution_count": 148,
   "metadata": {
    "collapsed": false
   },
   "outputs": [
    {
     "data": {
      "text/plain": [
       "tensor([-0.5225,  1.3043,  0.3189, -0.6499, -1.3031,  0.1121, -0.1322,  0.0210,\n",
       "         0.2307,  0.2580,  0.7552, -0.3287,  0.0626,  0.0117,  0.1040,  1.2341,\n",
       "        -0.7493, -0.0819, -1.0798, -0.7071,  0.9599,  0.1318,  0.3808,  0.5605,\n",
       "        -1.0795, -0.4833, -0.1719,  0.0804,  0.1467,  1.4072],\n",
       "       grad_fn=<SelectBackward>)"
      ]
     },
     "execution_count": 148,
     "metadata": {},
     "output_type": "execute_result"
    }
   ],
   "source": [
    "pretrained_weights10.t()[0]"
   ]
  },
  {
   "cell_type": "code",
   "execution_count": 154,
   "metadata": {
    "collapsed": true
   },
   "outputs": [],
   "source": [
    "#Transferring the weights\n",
    "fc_x = nn.Linear(len(uniq_words), embed_size, bias = False)\n",
    "fc_x.weight = pretrained_weights10"
   ]
  },
  {
   "cell_type": "code",
   "execution_count": 156,
   "metadata": {
    "collapsed": false,
    "scrolled": true
   },
   "outputs": [
    {
     "name": "stdout",
     "output_type": "stream",
     "text": [
      "tensor([1.0000, 0.9841, 0.9608, 0.9521, 0.9298])\n"
     ]
    },
    {
     "data": {
      "text/plain": [
       "['khomeini', 'statecraft', 'iranian', 'tradition', 'iran']"
      ]
     },
     "execution_count": 156,
     "metadata": {},
     "output_type": "execute_result"
    }
   ],
   "source": [
    "#Using saved weights for finding similar words\n",
    "find_dist_new(uniq_words, fc_x, 'khomeini', 5)"
   ]
  },
  {
   "cell_type": "code",
   "execution_count": 129,
   "metadata": {
    "collapsed": false
   },
   "outputs": [
    {
     "name": "stdout",
     "output_type": "stream",
     "text": [
      "tensor([1.0000, 0.9625, 0.9334, 0.9170, 0.8833])\n"
     ]
    },
    {
     "data": {
      "text/plain": [
       "['nuclear', 'proliferation', 'challenge', 'age', 'cyber']"
      ]
     },
     "execution_count": 129,
     "metadata": {},
     "output_type": "execute_result"
    }
   ],
   "source": [
    "find_dist(uniq_words, 'nuclear', 5)"
   ]
  },
  {
   "cell_type": "code",
   "execution_count": 142,
   "metadata": {
    "collapsed": false
   },
   "outputs": [
    {
     "name": "stdout",
     "output_type": "stream",
     "text": [
      "tensor([1.0000, 0.9593, 0.9162, 0.9065, 0.8865])\n"
     ]
    },
    {
     "data": {
      "text/plain": [
       "['nuclear', 'proliferation', 'age', 'challenge', 'cyber']"
      ]
     },
     "execution_count": 142,
     "metadata": {},
     "output_type": "execute_result"
    }
   ],
   "source": [
    "find_dist(uniq_words, 'nuclear', 5)"
   ]
  },
  {
   "cell_type": "code",
   "execution_count": 141,
   "metadata": {
    "collapsed": false
   },
   "outputs": [
    {
     "name": "stdout",
     "output_type": "stream",
     "text": [
      "tensor([1.0000, 0.9584, 0.9538, 0.9348, 0.9154])\n"
     ]
    },
    {
     "data": {
      "text/plain": [
       "['henry', 'history', 'kissinger', 'character', 'reflections']"
      ]
     },
     "execution_count": 141,
     "metadata": {},
     "output_type": "execute_result"
    }
   ],
   "source": [
    "find_dist(uniq_words, 'henry', 5)"
   ]
  },
  {
   "cell_type": "code",
   "execution_count": 128,
   "metadata": {
    "collapsed": false
   },
   "outputs": [
    {
     "name": "stdout",
     "output_type": "stream",
     "text": [
      "tensor([1.0000, 0.9766, 0.9453, 0.9426, 0.8780, 0.8698, 0.8566, 0.8455, 0.8369,\n",
      "        0.8232])\n"
     ]
    },
    {
     "data": {
      "text/plain": [
       "['khomeini',\n",
       " 'statecraft',\n",
       " 'iranian',\n",
       " 'tradition',\n",
       " 'iran',\n",
       " 'approaches',\n",
       " 'revolution',\n",
       " 'vision',\n",
       " 'proliferation',\n",
       " 'nuclear']"
      ]
     },
     "execution_count": 128,
     "metadata": {},
     "output_type": "execute_result"
    }
   ],
   "source": [
    "find_dist(uniq_words, 'khomeini', 10)"
   ]
  },
  {
   "cell_type": "code",
   "execution_count": 127,
   "metadata": {
    "collapsed": false
   },
   "outputs": [
    {
     "name": "stdout",
     "output_type": "stream",
     "text": [
      "tensor([1.0000, 0.9648, 0.9507, 0.8777, 0.8735, 0.8661, 0.8430, 0.8413, 0.8241,\n",
      "        0.8137])\n"
     ]
    },
    {
     "data": {
      "text/plain": [
       "['ronald',\n",
       " 'reagan',\n",
       " 'renewal',\n",
       " 'beginning',\n",
       " 'richard',\n",
       " 'nixon',\n",
       " 'cold',\n",
       " 'vietnam',\n",
       " 'breakdown',\n",
       " 'afghanistan']"
      ]
     },
     "execution_count": 127,
     "metadata": {},
     "output_type": "execute_result"
    }
   ],
   "source": [
    "find_dist(uniq_words, 'ronald', 10)"
   ]
  },
  {
   "cell_type": "code",
   "execution_count": 125,
   "metadata": {
    "collapsed": false
   },
   "outputs": [
    {
     "data": {
      "text/plain": [
       "[<matplotlib.lines.Line2D at 0x22a15b14710>]"
      ]
     },
     "execution_count": 125,
     "metadata": {},
     "output_type": "execute_result"
    },
    {
     "data": {
      "image/png": "[encoded data removed]",
      "text/plain": [
       "<matplotlib.figure.Figure at 0x22a14432898>"
      ]
     },
     "metadata": {},
     "output_type": "display_data"
    }
   ],
   "source": [
    "#Plotting losses\n",
    "import matplotlib.pyplot as plt\n",
    "%matplotlib inline\n",
    "plt.plot(losses)"
   ]
  },
  {
   "cell_type": "code",
   "execution_count": 170,
   "metadata": {
    "collapsed": true
   },
   "outputs": [],
   "source": [
    "##########################################################################################################################\n",
    "#saving the list of words used for indexing/tokenizing\n",
    "#rerun of programs will give different order/sets of  unique words and different weights\n",
    "#while evaluating the saved weights it is necessary to use correspondin set of saved uniq_words as look up\n",
    "new_file = 'C:\\\\Users\\\\Mnsh\\\\Documents\\\\data\\\\pytorch\\\\word2vec\\\\SGNS\\\\uniq_saved_new.txt'\n",
    "with open(new_file, 'w') as f:\n",
    "    for item in uniq_words:\n",
    "        f.write(\"%s\\n\" % item)\n",
    "#####################################################################################################################"
   ]
  },
  {
   "cell_type": "code",
   "execution_count": 173,
   "metadata": {
    "collapsed": false,
    "scrolled": true
   },
   "outputs": [],
   "source": []
  },
  {
   "cell_type": "code",
   "execution_count": 174,
   "metadata": {
    "collapsed": false
   },
   "outputs": [
    {
     "name": "stdout",
     "output_type": "stream",
     "text": [
      "russian\n",
      "nations\n",
      "national\n",
      "premises\n",
      "stage\n",
      "first\n",
      "acknowledgments\n",
      "challenges\n",
      "responsible\n",
      "enemies\n",
      "time\n",
      "islamic\n",
      "postwar\n",
      "successors\n",
      "state\n",
      "digital\n",
      "asian\n",
      "forswearing\n",
      "thirty\n",
      "interpretations\n",
      "do\n",
      "issue\n",
      "cold\n",
      "congress\n",
      "countries\n",
      "fair\n",
      "is\n",
      "made\n",
      "cataclysm\n",
      "most\n",
      "outside\n",
      "order\n",
      "replied\n",
      "ronald\n",
      "tradition\n",
      "pride\n",
      "minimal\n",
      "myself\n",
      "challenge\n",
      "condition\n",
      "an\n",
      "era\n",
      "defense\n",
      "ottoman\n",
      "frequent\n",
      "factor\n",
      "great\n",
      "revolutionary\n",
      "strategies\n",
      "rights\n",
      "western\n",
      "embracing\n",
      "their\n",
      "twenty\n",
      "presidency\n",
      "adopting\n",
      "woodrow\n",
      "democratic\n",
      "saudi\n",
      "pluralistic\n",
      "human\n",
      "disorder\n",
      "this\n",
      "president\n",
      "aimed\n",
      "where\n",
      "version\n",
      "presidents\n",
      "understanding\n",
      "arabia\n",
      "city\n",
      "nuclear\n",
      "definition\n",
      "partnership\n",
      "technology\n",
      "tide\n",
      "some\n",
      "instances\n",
      "introduction\n",
      "wars\n",
      "like\n",
      "cooperative\n",
      "kansas\n",
      "reiler\n",
      "philosophical\n",
      "reality\n",
      "world\n",
      "european\n",
      "iranian\n",
      "concepts\n",
      "speech\n",
      "fact\n",
      "all\n",
      "or\n",
      "called\n",
      "participatory\n",
      "acting\n",
      "age\n",
      "rules\n",
      "between\n",
      "them\n",
      "ambivalent\n",
      "play\n",
      "syrian\n",
      "totally\n",
      "decline\n",
      "narrative\n",
      "mankind\n",
      "wilson\n",
      "approaches\n",
      "different\n",
      "china\n",
      "wanted\n",
      "sovereignty\n",
      "defeated\n",
      "multiplicity\n",
      "then\n",
      "preservation\n",
      "century\n",
      "kissinger\n",
      "breakdown\n",
      "both\n",
      "richard\n",
      "proud\n",
      "renewal\n",
      "only\n",
      "policy\n",
      "today\n",
      "these\n",
      "sick\n",
      "united\n",
      "regional\n",
      "legitimacy\n",
      "course\n",
      "humane\n",
      "remembered\n",
      "reagan\n",
      "important\n",
      "iran\n",
      "systems\n",
      "superpower\n",
      "norms\n",
      "liberal\n",
      "on\n",
      "vision\n",
      "statecraft\n",
      "vienna\n",
      "vehemence\n",
      "here\n",
      "spring\n",
      "think\n",
      "conscious\n",
      "eloquence\n",
      "purpose\n",
      "theodore\n",
      "what\n",
      "foreign\n",
      "so\n",
      "taken\n",
      "henry\n",
      "new\n",
      "war\n",
      "follow\n",
      "common\n",
      "dilemmas\n",
      "followed\n",
      "middle\n",
      "him\n",
      "balance\n",
      "expanding\n",
      "islamism\n",
      "many\n",
      "aftermath\n",
      "observing\n",
      "much\n",
      "contribution\n",
      "perspective\n",
      "concept\n",
      "they\n",
      "his\n",
      "westphalian\n",
      "faces\n",
      "similar\n",
      "roosevelt\n",
      "question\n",
      "metternich\n",
      "nancy\n",
      "proliferation\n",
      "uniqueness\n",
      "india\n",
      "franklin\n",
      "based\n",
      "truman\n",
      "with\n",
      "history\n",
      "ushered\n",
      "lion\n",
      "enhancement\n",
      "two\n",
      "consciousness\n",
      "from\n",
      "westphalia\n",
      "yet\n",
      "attributes\n",
      "i\n",
      "conscience\n",
      "there\n",
      "regions\n",
      "he\n",
      "embrace\n",
      "community\n",
      "victories\n",
      "conclusion\n",
      "by\n",
      "confrontation\n",
      "academic\n",
      "when\n",
      "shared\n",
      "played\n",
      "possible\n",
      "revolution\n",
      "iraq\n",
      "urge\n",
      "toward\n",
      "notes\n",
      "longer\n",
      "enigma\n",
      "cllaracler\n",
      "operation\n",
      "empire\n",
      "europe\n",
      "french\n",
      "american\n",
      "vietnam\n",
      "evolution\n",
      "as\n",
      "years\n",
      "not\n",
      "end\n",
      "no\n",
      "khomeini\n",
      "would\n",
      "conciliations\n",
      "consensus\n",
      "changes\n",
      "share\n",
      "done\n",
      "character\n",
      "japan\n",
      "reflections\n",
      "we\n",
      "nixon\n",
      "values\n",
      "economic\n",
      "cyber\n",
      "inexorably\n",
      "governance\n",
      "go\n",
      "man\n",
      "equilibrium\n",
      "bismarck\n",
      "east\n",
      "governments\n",
      "asia\n",
      "korean\n",
      "has\n",
      "continued\n",
      "arab\n",
      "exhortations\n",
      "reflect\n",
      "varieties\n",
      "be\n",
      "role\n",
      "vast\n",
      "palestinian\n",
      "above\n",
      "reflected\n",
      "conquest\n",
      "future\n",
      "our\n",
      "period\n",
      "parties\n",
      "beginning\n",
      "often\n",
      "contents\n",
      "allies\n",
      "peace\n",
      "delivering\n",
      "took\n",
      "back\n",
      "experience\n",
      "territorial\n",
      "respecting\n",
      "had\n",
      "young\n",
      "other\n",
      "found\n",
      "stakeholders\n",
      "uphold\n",
      "afghanistan\n",
      "harry\n",
      "brought\n",
      "penguin\n",
      "\n"
     ]
    }
   ],
   "source": [
    "############################################################################################################\n",
    "#reading the file\n",
    "read_file = \"C:\\\\Users\\\\Mnsh\\\\Documents\\\\data\\\\pytorch\\word2vec\\\\SGNS\\\\uniq_saved_new.txt\"\n",
    "f = open(read_file, \"r\")\n",
    "print(f.read())\n",
    "#############################################################################################################"
   ]
  },
  {
   "cell_type": "code",
   "execution_count": null,
   "metadata": {
    "collapsed": true
   },
   "outputs": [],
   "source": [
    "f.close()"
   ]
  },
  {
   "cell_type": "code",
   "execution_count": 158,
   "metadata": {
    "collapsed": true
   },
   "outputs": [],
   "source": [
    "#####################################################################################################\n",
    "#Alternative way of saving and reading the file using json\n",
    "import json\n",
    "#a = [1,2,3,4,5]\n",
    "d = uniq_words\n",
    "with open('C:\\\\Users\\\\Mnsh\\\\Documents\\\\data\\\\pytorch\\\\word2vec\\\\SGNS\\\\weights_and_words\\\\uniq_saved10.txt', 'w') as f:\n",
    "    f.write(json.dumps(d))\n",
    "\n",
    "#Now read the file back into a Python list object\n",
    "with open('C:\\\\Users\\\\Mnsh\\\\Documents\\\\data\\\\pytorch\\\\word2vec\\\\SGNS\\\\weights_and_words\\\\uniq_saved10.txt', 'r') as f:\n",
    "    c = json.loads(f.read())\n",
    "####################################################################################################"
   ]
  },
  {
   "cell_type": "code",
   "execution_count": 176,
   "metadata": {
    "collapsed": false
   },
   "outputs": [
    {
     "data": {
      "text/plain": [
       "['russian', 'nations', 'national', 'premises', 'stage']"
      ]
     },
     "execution_count": 176,
     "metadata": {},
     "output_type": "execute_result"
    }
   ],
   "source": [
    "c[:5]"
   ]
  },
  {
   "cell_type": "code",
   "execution_count": 78,
   "metadata": {
    "collapsed": false
   },
   "outputs": [],
   "source": [
    "#using new networks\n",
    "#state_dict can be used but weights have to be seperated before transferring\n",
    "\n",
    "embed_size = 30\n",
    "fc1 = nn.Linear(len(uniq_words), embed_size, bias = False)\n",
    "pretrained_weights = torch.load('C:\\\\Users\\\\Mnsh\\\\Documents\\\\data\\\\pytorch\\\\word2vec\\\\SGNS\\\\weights_and_words\\\\fc_midl_wt.pth')\n",
    "fc11.weight = pretrained_weights"
   ]
  },
  {
   "cell_type": "code",
   "execution_count": 180,
   "metadata": {
    "collapsed": false
   },
   "outputs": [
    {
     "data": {
      "text/plain": [
       "Parameter containing:\n",
       "tensor([[-0.5225, -0.2186, -0.6126,  ..., -0.5997,  0.3447, -1.5748],\n",
       "        [ 1.3043, -0.0870, -0.4282,  ..., -0.0965,  0.0154,  1.0580],\n",
       "        [ 0.3189,  0.0833, -0.0369,  ...,  0.2913,  0.2884,  0.7364],\n",
       "        ...,\n",
       "        [ 0.0804,  1.0413,  1.1097,  ...,  0.4449,  0.7431,  1.1347],\n",
       "        [ 0.1467, -0.3945,  0.1304,  ..., -1.5804, -0.6592, -0.1812],\n",
       "        [ 1.4072,  0.5528,  0.1567,  ...,  0.6486,  1.7909, -0.0341]],\n",
       "       requires_grad=True)"
      ]
     },
     "execution_count": 180,
     "metadata": {},
     "output_type": "execute_result"
    }
   ],
   "source": [
    "pretrained_weights"
   ]
  },
  {
   "cell_type": "code",
   "execution_count": 184,
   "metadata": {
    "collapsed": false
   },
   "outputs": [
    {
     "name": "stdout",
     "output_type": "stream",
     "text": [
      "tensor([1.0000, 0.9630, 0.9551, 0.9418, 0.9222])\n"
     ]
    },
    {
     "data": {
      "text/plain": [
       "['henry', 'history', 'kissinger', 'character', 'reflections']"
      ]
     },
     "execution_count": 184,
     "metadata": {},
     "output_type": "execute_result"
    }
   ],
   "source": [
    "find_dist_new(fc1, uniq_words, 'henry', 5)"
   ]
  }
 ],
 "metadata": {
  "kernelspec": {
   "display_name": "Python [conda env:Anaconda3]",
   "language": "python",
   "name": "conda-env-Anaconda3-py"
  },
  "language_info": {
   "codemirror_mode": {
    "name": "ipython",
    "version": 3
   },
   "file_extension": ".py",
   "mimetype": "text/x-python",
   "name": "python",
   "nbconvert_exporter": "python",
   "pygments_lexer": "ipython3",
   "version": "3.5.2"
  }
 },
 "nbformat": 4,
 "nbformat_minor": 1
}
